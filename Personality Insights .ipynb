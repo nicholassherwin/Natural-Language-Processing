{
 "cells": [
  {
   "cell_type": "markdown",
   "metadata": {},
   "source": [
    "## Personality Notebook\n",
    "\n",
    "This notebook includes code to import text and output visualizations using IBMs personality insights platform on Watson."
   ]
  },
  {
   "cell_type": "code",
   "execution_count": 59,
   "metadata": {},
   "outputs": [
    {
     "data": {
      "text/plain": [
       "'/Users/nicksherwin/Desktop/Project_github/Project 4'"
      ]
     },
     "execution_count": 59,
     "metadata": {},
     "output_type": "execute_result"
    }
   ],
   "source": [
    "from ibm_watson import PersonalityInsightsV3\n",
    "import json\n",
    "\n",
    "%pwd"
   ]
  },
  {
   "cell_type": "code",
   "execution_count": 16,
   "metadata": {},
   "outputs": [],
   "source": [
    "url = 'https://gateway.watsonplatform.net/personality-insights/api'"
   ]
  },
  {
   "cell_type": "code",
   "execution_count": 17,
   "metadata": {},
   "outputs": [],
   "source": [
    "apikey = 'Wcp-qDUY7OKpM6EUnA_15Aj4OzyAgGkxnq6VFfJR3joa'"
   ]
  },
  {
   "cell_type": "code",
   "execution_count": 18,
   "metadata": {},
   "outputs": [],
   "source": [
    "service = PersonalityInsightsV3(url=url, iam_apikey=apikey, version='2017-10-13' )"
   ]
  },
  {
   "cell_type": "code",
   "execution_count": 166,
   "metadata": {},
   "outputs": [],
   "source": [
    "text = \"\"\"a wizard is never late frodo baggins nor is he early he arrives precisely when he means to   you didnt think id miss your uncle bilbos birthday   what everything far too eager and curious for a hobbit most unnatural   well what can i tell you life in the wide world goes on much as if it has past age full of its own comings and goings scarcely even aware of the existence of hobbits   for which i am very thankful   ah the long expected party so how is the old rascal i hear its going to be a party of special magnificence   oh well that should please him   good gracious me   if youre referring to the incident with the dragon i was barely involved all i did was give your uncle a little nudge out the door   so am i dear boy so am   and what about very old friends   its good to see you one hundred and eleven years old who would believe it   you havent aged a day gandalf and bilbo laugh together and enter bag end   just tea thank you   no not at all go ahead a sudden loud knock on the front door   so you mean to go through with your plan then   frodo suspects something   you will tell him wont you   hes very fond of you   i suppose you think that was terribly clever   you will keep an eye on frodo wont you   what about this ring of yours is that staying too   i think you should leave the ring behind bilbo is that so hard   theres no need to get angry   i think youve had that ring quite long enough   bilbo baggins do not take me for some conjurer of cheap tricks bilbo cowers from gandalf disarmed by his power a frightened hobbit gandalfs expression softens   i am not trying to rob you i am trying to help you sobbing bilbo runs to gandalf and hugs him   all you long years weve been friends trust me as you once did let it go   im sure you will my dear friend   softly until our next meeting   to himself riddles in the dark   to himself my precious precious   mutters to himself my own   hes gone to stay with the elves hes left you bag end   along with all his possessions   i have some things i must see to   questions questions that need answering   neither do i keep it secret keep it safe   reading the year of the second age here follows the account of isildur high king of gondor and the finding of the ring of power :   reading it has come to me the ring of power   it shall be an heirloom of my kingdom all those who follow in my bloodline shall be bound to its fate for i will risk no hurt to the   ring it is precious to me though i buy it with great pain   reading the marking upon the band begin to fade the writing which at first was as clear as red flame has all but disappeared a secret now that only fire can tell   urgent whisper is it secret is it safe   hold out your hand frodo it is quite cool   what can you see can you see anything   ominous there are few who can the language is that of mordor which i will not utter here   this is the one ring fed by the dark lord sauron in the fires of mt doom taken by isildur from the hand of sauron himself   for sixty years the ring lay quiet in bilbos keeping prolonging his life delaying old age but no longer frodo evil is stirring in mordor the ring has awoken it has heard its masters call   no frodo the spirit of sauron has endured his life force is bound to the ring and the ring survived sauron has returned his orcs have multiplied his fortress of barad dur is rebuilt in the land of mordor sauron needs only this ring to cover all the lands in the second darkness he is seeking it seeking it all his thought is bent on it for the ring yearns above all else to return to the hand of its master: they are one the ring and the dark lord frodo he must never find out   i dont know how long they tortured him but amidst the endless screams and inane babble they discerned two words   you cannot offer me this ring   dont tempt me frodo i dare not take it not even to keep it safe   understand frodo i would use this ring from a desire to do good but through me it would wield a power too great and terrible to imagine   no no it cant   you must leave and leave quickly get out of the shire   make for the village of bree   i will be waiting for you at the inn of the prancing pony frodo packs his food into his knapsack   i dont know frodo i dont have any answers i must see the head of my order he is both wise and powerful trust me frodo hell know what to go   youll have to leave the name of baggins behind you for that name is not safe outside the shire   travel only by day and stay off the road   my dear frodo hobbits really are amazing creatures you can learn all that there is to know about their ways in a month and yet after a hundred years they can still surprise you   its a little late for trimming the hedges dont you think   what did you hear speak   perhaps not ive thought of a better use for you   be careful both of you the enemy has many spies in his service many ways of hearing birds beasts   low voice is it safe   never put it on for then the agents of the dark lord will be drawn to its power always remember frodo the ring is trying to get back to its master it wants to be found gandalf wheels his horse and gallops away   beyond any doubt   all these long years it was in the shire under my very nose   we still have time time enough to counter sauron if we act quickly   softly the eye of sauron   you know this how   a palantir is a dangerous tool saruman   they are not all accounted for the lost seeing stones we do not know who else may be watching gandalf throws the cloth back over the palantir   shocked the nine   alarmed they have reached the shire saruman shrugs   deadly tell me friend when did saruman the wise abandon reason for madness   yes im here and youre lucky to be here too a few more hours and you would have been beyond our aid you have some strength in you my dear hobbit   im sorry frodo   i was delayed   there is only one lord of the ring only one who can bend it to his will and he does not share power   sam has hardly left your side   by the skills of lord elrond youre beginning to mend   that wound will never fully heal he will carry it the rest of his life   it is a burden he should never have to had to bear we can ask no more of frodo   it is in men that we must place our hope   aragorn is right we cannot use it   do you not understand while we bicker among ourselves saurons power grows no one will escape it you will all be destroyed your homes burnt and your families put to the sword   i will help you bear this burden frodo baggins as long as it is yours to bear   we must hold to his course west of the misty mountains for forty days if our luck holds the gap of rohan will still be open to us from there our road turns east to mordor   no gimli i would not take the road through moria unless i had no other choice   worried spies of saruman the passage south is being watched   we must take the pass of caradhras   let the ringbearer decide   so be it   itidin it mirrors only starlight and moonlight   confident its quite simple if you are a friend speak the password and the doors will open   incanting annon edhellen edro hi ammen   into the mines   quietly now its a four day journey to the other side let us hope that our presence will go unnoticed   i have no memory of this place   quietly its gollum   hes been following us for three days   escaped or was set loose and now the ring has drawn him here he will never be rid of his need for it he hates and loves the ring as he hates and loves himself smeagols life is a sad story gandalf catches frodos look of surprise   yes smeagol he was once called before the ring came to him before it drove him mad   pity it was pity that stayed bilbos hand many that live deserve death and some that die deserve life can you give it to them frodo frodo frowns   do not be too eager to deal out death in judgment even the very wise cannot see all ends my heart tells me that gollum has some part to play yet for good or ill before this is over the pity of bilbo may rule the fate of many   so do all who live to see such times but that is not for them to decide all we have to decide is what to do with the time that is given to us there is a note of finality in gandalfs voice   there are other forces at work in this world frodo besides the will of evil bilbo was meant to find the ring in which case you also were meant to have it and that is an encouraging thought sudden brightness ah that its that way gandalf points at the right hand tunnel the fellowship scramble to their feet   no but the air doesnt smell so foul down there if in doubt meriadoc always follow your nose laughs ye s   behold the great realm and dwarf city of dwarrowdelf frodo gasps at the brief sight of a vast roof far above   reading they have taken the bridge and the second hall: we have barred the gates but cannot hold them for long the ground shakes drums in the deep we cannot get out a shadow moves in the dark will no one save us they are coming   angry fool of a took throw yourself in next time and rid us of your stupidity   i think theres more to this hobbit than meets the eye   to the bridge of khazad dum   quietly a balrog a demon of the ancient world this foe is beyond any of you urgent yell run quickly   lead them on aragorn the bridge is near   do as i say swords are no more use here   yelling over the bridge fly   you cannot pass   yelling i am a servant of the secret fire wielder of the flame of anor the dark fire will not avail you flame of udun   go back to the shadow the   booming you shall not pass the balrog places one foot onto the bridge aragorn and boromir race forward swords drawn   fierce fly you fools   so do all who lie to see such times but that is not for them to decide all we have to decide is what to do with the time that is given us   shaking his head hobbits   and there saruman must remain under your guard treebeard   quietly no he has no power any more   urgent peregrin took ill take that my lad   no word nothing   do we know that   with a small smile that frodo is alive to himself yes yes he is alive   fool of a took   look at me what did you see   minas tirith to   and what did you tell him speak   what did you tell him about frodo and the ring   there was no lie in pippins eyes a fool but an honest fool he remains he told sauron nothing of frodo and the ring   weve been strangely fortunate what pippin saw in the palantir was a glimpse of our enemys plan   sauron moves to strike the city of minas tirith his defeat at helms deep showed our enemy one thing   the heir of elendil has come forth men are not as weak as he supposed there is courage still strength enough left to challenge him   wa rningly sauro n fea rs this he will no t risk t he p e o p l es of m i d d l e e a r t h u n i t i ng u n d e r one b a n n e r he w i l l r ai s e m i n a s t ir i t h t o the groun d bef ore he sees the ret urn of t he king   if the beacons of condor are lit rohan must be ready for war   they will be low voice to aragorn you must come to minas tirith by another ra od cryptic follow the river look to the black ships louder to all understand this things are now in motion that cannot be undone   i ride for minas tirith and i wont be going alone   of all the inquisitive hobbits peregrin took you are the worst hurry hurry   three days ride as the nazgul flies and youd better hope we dont have one of those on our tail   run shadowfax show us the meaning of haste   we have just passed into the realm of condor   minas tirith city of the kings   yes the white tree of gondor the tree of the king   lord denethor however is not the king he is a steward only a caretaker of the throne   hail denethor son of ecthelion lord and steward of gondor   i come with tidings in this dark hour and with counsel   hurried whisper pippin   you still have friends you are not alone in this fight send word to theoden of rohan light the beacons   stung authority is not given to you to deny the return of the king steward   come final revision october   youre in the service of the steward now youre going to have to do as youre told peregrin took under his breath guard of the citadel   its the deep breath before the plunge   there never was much hope   just a fools hope   v grim our enemy is almost ready his full strength gathered not only ores but men as well   v legions of haradrim from the south   v mercenaries from the coast all will answer mordor s call   this will be the end of gondor as we know it here the hammerstroke will fall hardest   v if the river is taken if the garrison at osgiliath falls the last defence of this city will be gone   v sauron has yet to reveal his deadliest servant the one who will lead mordors armies in war the one they say no living man can kill   the witchking of angmar he looks down at a startled   he stabbed frodo on weathertop   v and minas mul is his lair   quiet we come to it at last the great battle of our time :   v this war is long planned sauron has hated the west through many ages it is a hatred that flows from the depths of time across the deeps of the sea   to himself the board is set the pieces are moving   peregrin took my lad there is a task to be done another opportunity for one of the shire folk to prove their great worth   you must not fail me   to himself amon din come on   to himself hope is kindled   foreseen and done nothing   shocked realisation and then the pass of cirith ungol   urgent faramir tell me everything   faramir your fathers will has turned to madness do not throw away your life so rashly   your father loves you faramir quietly and will remember it before the end final revision october   v look to the black ships   yell prepare for battle   yelling return to your posts   angry yell send these foul beasts into the abyss   rallying stand to your posts do not give in to fear fight   not at the towers aim for the trolls kill the trolls bring them down   peregrin took go back to the citadel   urgency this is no place for a hobbit   guard of the citadel indeed now back up the hill quickly quickly   to the gates man the gates final revision october   commanding steady steady   you are soldiers of gondor no matter what comes through that gate you will stand your ground   pull back to the second level hurry get the women and children out of here get them out   fight fight for your lives   yelling stay this madness   gently end no the journey doesnt end here   death is just another path one that we all must take   remembering the grey rain curtain of this world rolls back and all turns to silver glass to himself and then you see it   white shores and beyond a far green country under a swift sunrise   gently no no it isnt final revision october   frodo has passed beyond my sight the darkness is deepening   its only a matter of time he has suffered a defeat yes but behind the walls of mordor our enemy is regrouping   because ten thousand ores now stand between frodo and mount doom   to himself i have sent him to his death   doubtful sauron will suspect a trap he will not take the bait   now come the days of the king   : softly to aragorn may they be blessed   farewell my brave hobbits my work is now finished here at last on the shores of the sea comes the end of our fellowship   i will not say: do not weep for not all tears are an evil   it is time frodo\"\"\""
   ]
  },
  {
   "cell_type": "code",
   "execution_count": 167,
   "metadata": {},
   "outputs": [],
   "source": [
    "profile = service.profile(text, accept='application/json').get_result()"
   ]
  },
  {
   "cell_type": "code",
   "execution_count": 168,
   "metadata": {},
   "outputs": [
    {
     "data": {
      "text/plain": [
       "0"
      ]
     },
     "execution_count": 168,
     "metadata": {},
     "output_type": "execute_result"
    }
   ],
   "source": [
    "len(profile['warnings'])"
   ]
  },
  {
   "cell_type": "code",
   "execution_count": 169,
   "metadata": {},
   "outputs": [
    {
     "name": "stdout",
     "output_type": "stream",
     "text": [
      "{\n",
      "  \"word_count\": 3012,\n",
      "  \"processed_language\": \"en\",\n",
      "  \"personality\": [\n",
      "    {\n",
      "      \"trait_id\": \"big5_openness\",\n",
      "      \"name\": \"Openness\",\n",
      "      \"category\": \"personality\",\n",
      "      \"percentile\": 0.9602754798180424,\n",
      "      \"significant\": true,\n",
      "      \"children\": [\n",
      "        {\n",
      "          \"trait_id\": \"facet_adventurousness\",\n",
      "          \"name\": \"Adventurousness\",\n",
      "          \"category\": \"personality\",\n",
      "          \"percentile\": 0.40332912204476634,\n",
      "          \"significant\": true\n",
      "        },\n",
      "        {\n",
      "          \"trait_id\": \"facet_artistic_interests\",\n",
      "          \"name\": \"Artistic interests\",\n",
      "          \"category\": \"personality\",\n",
      "          \"percentile\": 0.9293272758775335,\n",
      "          \"significant\": true\n",
      "        },\n",
      "        {\n",
      "          \"trait_id\": \"facet_emotionality\",\n",
      "          \"name\": \"Emotionality\",\n",
      "          \"category\": \"personality\",\n",
      "          \"percentile\": 0.7673447972163725,\n",
      "          \"significant\": true\n",
      "        },\n",
      "        {\n",
      "          \"trait_id\": \"facet_imagination\",\n",
      "          \"name\": \"Imagination\",\n",
      "          \"category\": \"personality\",\n",
      "          \"percentile\": 0.9592521166567406,\n",
      "          \"significant\": true\n",
      "        },\n",
      "        {\n",
      "          \"trait_id\": \"facet_intellect\",\n",
      "          \"name\": \"Intellect\",\n",
      "          \"category\": \"personality\",\n",
      "          \"percentile\": 0.9989101009542265,\n",
      "          \"significant\": true\n",
      "        },\n",
      "        {\n",
      "          \"trait_id\": \"facet_liberalism\",\n",
      "          \"name\": \"Authority-challenging\",\n",
      "          \"category\": \"personality\",\n",
      "          \"percentile\": 0.47626780858145823,\n",
      "          \"significant\": true\n",
      "        }\n",
      "      ]\n",
      "    },\n",
      "    {\n",
      "      \"trait_id\": \"big5_conscientiousness\",\n",
      "      \"name\": \"Conscientiousness\",\n",
      "      \"category\": \"personality\",\n",
      "      \"percentile\": 0.4830434809453242,\n",
      "      \"significant\": true,\n",
      "      \"children\": [\n",
      "        {\n",
      "          \"trait_id\": \"facet_achievement_striving\",\n",
      "          \"name\": \"Achievement striving\",\n",
      "          \"category\": \"personality\",\n",
      "          \"percentile\": 0.355519312991984,\n",
      "          \"significant\": true\n",
      "        },\n",
      "        {\n",
      "          \"trait_id\": \"facet_cautiousness\",\n",
      "          \"name\": \"Cautiousness\",\n",
      "          \"category\": \"personality\",\n",
      "          \"percentile\": 0.5826181683910676,\n",
      "          \"significant\": true\n",
      "        },\n",
      "        {\n",
      "          \"trait_id\": \"facet_dutifulness\",\n",
      "          \"name\": \"Dutifulness\",\n",
      "          \"category\": \"personality\",\n",
      "          \"percentile\": 0.6487225133310227,\n",
      "          \"significant\": true\n",
      "        },\n",
      "        {\n",
      "          \"trait_id\": \"facet_orderliness\",\n",
      "          \"name\": \"Orderliness\",\n",
      "          \"category\": \"personality\",\n",
      "          \"percentile\": 0.3485363937349678,\n",
      "          \"significant\": true\n",
      "        },\n",
      "        {\n",
      "          \"trait_id\": \"facet_self_discipline\",\n",
      "          \"name\": \"Self-discipline\",\n",
      "          \"category\": \"personality\",\n",
      "          \"percentile\": 0.20835027212494023,\n",
      "          \"significant\": true\n",
      "        },\n",
      "        {\n",
      "          \"trait_id\": \"facet_self_efficacy\",\n",
      "          \"name\": \"Self-efficacy\",\n",
      "          \"category\": \"personality\",\n",
      "          \"percentile\": 0.3677740553073758,\n",
      "          \"significant\": true\n",
      "        }\n",
      "      ]\n",
      "    },\n",
      "    {\n",
      "      \"trait_id\": \"big5_extraversion\",\n",
      "      \"name\": \"Extraversion\",\n",
      "      \"category\": \"personality\",\n",
      "      \"percentile\": 0.0095450607848237,\n",
      "      \"significant\": true,\n",
      "      \"children\": [\n",
      "        {\n",
      "          \"trait_id\": \"facet_activity_level\",\n",
      "          \"name\": \"Activity level\",\n",
      "          \"category\": \"personality\",\n",
      "          \"percentile\": 0.30036138486963243,\n",
      "          \"significant\": true\n",
      "        },\n",
      "        {\n",
      "          \"trait_id\": \"facet_assertiveness\",\n",
      "          \"name\": \"Assertiveness\",\n",
      "          \"category\": \"personality\",\n",
      "          \"percentile\": 0.4252901904988351,\n",
      "          \"significant\": true\n",
      "        },\n",
      "        {\n",
      "          \"trait_id\": \"facet_cheerfulness\",\n",
      "          \"name\": \"Cheerfulness\",\n",
      "          \"category\": \"personality\",\n",
      "          \"percentile\": 0.11974308593575889,\n",
      "          \"significant\": true\n",
      "        },\n",
      "        {\n",
      "          \"trait_id\": \"facet_excitement_seeking\",\n",
      "          \"name\": \"Excitement-seeking\",\n",
      "          \"category\": \"personality\",\n",
      "          \"percentile\": 0.522146160525607,\n",
      "          \"significant\": true\n",
      "        },\n",
      "        {\n",
      "          \"trait_id\": \"facet_friendliness\",\n",
      "          \"name\": \"Outgoing\",\n",
      "          \"category\": \"personality\",\n",
      "          \"percentile\": 0.0807137623795185,\n",
      "          \"significant\": true\n",
      "        },\n",
      "        {\n",
      "          \"trait_id\": \"facet_gregariousness\",\n",
      "          \"name\": \"Gregariousness\",\n",
      "          \"category\": \"personality\",\n",
      "          \"percentile\": 0.016282386639879964,\n",
      "          \"significant\": true\n",
      "        }\n",
      "      ]\n",
      "    },\n",
      "    {\n",
      "      \"trait_id\": \"big5_agreeableness\",\n",
      "      \"name\": \"Agreeableness\",\n",
      "      \"category\": \"personality\",\n",
      "      \"percentile\": 0.09479000047380282,\n",
      "      \"significant\": true,\n",
      "      \"children\": [\n",
      "        {\n",
      "          \"trait_id\": \"facet_altruism\",\n",
      "          \"name\": \"Altruism\",\n",
      "          \"category\": \"personality\",\n",
      "          \"percentile\": 0.8676590376432725,\n",
      "          \"significant\": true\n",
      "        },\n",
      "        {\n",
      "          \"trait_id\": \"facet_cooperation\",\n",
      "          \"name\": \"Cooperation\",\n",
      "          \"category\": \"personality\",\n",
      "          \"percentile\": 0.4218572058271272,\n",
      "          \"significant\": true\n",
      "        },\n",
      "        {\n",
      "          \"trait_id\": \"facet_modesty\",\n",
      "          \"name\": \"Modesty\",\n",
      "          \"category\": \"personality\",\n",
      "          \"percentile\": 0.9312160081061588,\n",
      "          \"significant\": true\n",
      "        },\n",
      "        {\n",
      "          \"trait_id\": \"facet_morality\",\n",
      "          \"name\": \"Uncompromising\",\n",
      "          \"category\": \"personality\",\n",
      "          \"percentile\": 0.7152607661038177,\n",
      "          \"significant\": true\n",
      "        },\n",
      "        {\n",
      "          \"trait_id\": \"facet_sympathy\",\n",
      "          \"name\": \"Sympathy\",\n",
      "          \"category\": \"personality\",\n",
      "          \"percentile\": 0.9893465709830351,\n",
      "          \"significant\": true\n",
      "        },\n",
      "        {\n",
      "          \"trait_id\": \"facet_trust\",\n",
      "          \"name\": \"Trust\",\n",
      "          \"category\": \"personality\",\n",
      "          \"percentile\": 0.29246532732164454,\n",
      "          \"significant\": true\n",
      "        }\n",
      "      ]\n",
      "    },\n",
      "    {\n",
      "      \"trait_id\": \"big5_neuroticism\",\n",
      "      \"name\": \"Emotional range\",\n",
      "      \"category\": \"personality\",\n",
      "      \"percentile\": 0.6057505024227601,\n",
      "      \"significant\": true,\n",
      "      \"children\": [\n",
      "        {\n",
      "          \"trait_id\": \"facet_anger\",\n",
      "          \"name\": \"Fiery\",\n",
      "          \"category\": \"personality\",\n",
      "          \"percentile\": 0.29489715294991337,\n",
      "          \"significant\": true\n",
      "        },\n",
      "        {\n",
      "          \"trait_id\": \"facet_anxiety\",\n",
      "          \"name\": \"Prone to worry\",\n",
      "          \"category\": \"personality\",\n",
      "          \"percentile\": 0.39706084541383124,\n",
      "          \"significant\": true\n",
      "        },\n",
      "        {\n",
      "          \"trait_id\": \"facet_depression\",\n",
      "          \"name\": \"Melancholy\",\n",
      "          \"category\": \"personality\",\n",
      "          \"percentile\": 0.8877588705013331,\n",
      "          \"significant\": true\n",
      "        },\n",
      "        {\n",
      "          \"trait_id\": \"facet_immoderation\",\n",
      "          \"name\": \"Immoderation\",\n",
      "          \"category\": \"personality\",\n",
      "          \"percentile\": 0.2795826523764818,\n",
      "          \"significant\": true\n",
      "        },\n",
      "        {\n",
      "          \"trait_id\": \"facet_self_consciousness\",\n",
      "          \"name\": \"Self-consciousness\",\n",
      "          \"category\": \"personality\",\n",
      "          \"percentile\": 0.7488995249250433,\n",
      "          \"significant\": true\n",
      "        },\n",
      "        {\n",
      "          \"trait_id\": \"facet_vulnerability\",\n",
      "          \"name\": \"Susceptible to stress\",\n",
      "          \"category\": \"personality\",\n",
      "          \"percentile\": 0.42297273108501254,\n",
      "          \"significant\": true\n",
      "        }\n",
      "      ]\n",
      "    }\n",
      "  ],\n",
      "  \"needs\": [\n",
      "    {\n",
      "      \"trait_id\": \"need_challenge\",\n",
      "      \"name\": \"Challenge\",\n",
      "      \"category\": \"needs\",\n",
      "      \"percentile\": 0.01260832357141145,\n",
      "      \"significant\": true\n",
      "    },\n",
      "    {\n",
      "      \"trait_id\": \"need_closeness\",\n",
      "      \"name\": \"Closeness\",\n",
      "      \"category\": \"needs\",\n",
      "      \"percentile\": 0.25743427295876464,\n",
      "      \"significant\": true\n",
      "    },\n",
      "    {\n",
      "      \"trait_id\": \"need_curiosity\",\n",
      "      \"name\": \"Curiosity\",\n",
      "      \"category\": \"needs\",\n",
      "      \"percentile\": 0.4709809508612107,\n",
      "      \"significant\": true\n",
      "    },\n",
      "    {\n",
      "      \"trait_id\": \"need_excitement\",\n",
      "      \"name\": \"Excitement\",\n",
      "      \"category\": \"needs\",\n",
      "      \"percentile\": 0.4294669720457295,\n",
      "      \"significant\": true\n",
      "    },\n",
      "    {\n",
      "      \"trait_id\": \"need_harmony\",\n",
      "      \"name\": \"Harmony\",\n",
      "      \"category\": \"needs\",\n",
      "      \"percentile\": 0.448225176904069,\n",
      "      \"significant\": true\n",
      "    },\n",
      "    {\n",
      "      \"trait_id\": \"need_ideal\",\n",
      "      \"name\": \"Ideal\",\n",
      "      \"category\": \"needs\",\n",
      "      \"percentile\": 0.10445467735778502,\n",
      "      \"significant\": true\n",
      "    },\n",
      "    {\n",
      "      \"trait_id\": \"need_liberty\",\n",
      "      \"name\": \"Liberty\",\n",
      "      \"category\": \"needs\",\n",
      "      \"percentile\": 0.20048037857633672,\n",
      "      \"significant\": true\n",
      "    },\n",
      "    {\n",
      "      \"trait_id\": \"need_love\",\n",
      "      \"name\": \"Love\",\n",
      "      \"category\": \"needs\",\n",
      "      \"percentile\": 0.05589312672068536,\n",
      "      \"significant\": true\n",
      "    },\n",
      "    {\n",
      "      \"trait_id\": \"need_practicality\",\n",
      "      \"name\": \"Practicality\",\n",
      "      \"category\": \"needs\",\n",
      "      \"percentile\": 0.2591392465481294,\n",
      "      \"significant\": true\n",
      "    },\n",
      "    {\n",
      "      \"trait_id\": \"need_self_expression\",\n",
      "      \"name\": \"Self-expression\",\n",
      "      \"category\": \"needs\",\n",
      "      \"percentile\": 0.32078690982783853,\n",
      "      \"significant\": true\n",
      "    },\n",
      "    {\n",
      "      \"trait_id\": \"need_stability\",\n",
      "      \"name\": \"Stability\",\n",
      "      \"category\": \"needs\",\n",
      "      \"percentile\": 0.309960799682491,\n",
      "      \"significant\": true\n",
      "    },\n",
      "    {\n",
      "      \"trait_id\": \"need_structure\",\n",
      "      \"name\": \"Structure\",\n",
      "      \"category\": \"needs\",\n",
      "      \"percentile\": 0.4026222257251257,\n",
      "      \"significant\": true\n",
      "    }\n",
      "  ],\n",
      "  \"values\": [\n",
      "    {\n",
      "      \"trait_id\": \"value_conservation\",\n",
      "      \"name\": \"Conservation\",\n",
      "      \"category\": \"values\",\n",
      "      \"percentile\": 0.3409528087010283,\n",
      "      \"significant\": true\n",
      "    },\n",
      "    {\n",
      "      \"trait_id\": \"value_openness_to_change\",\n",
      "      \"name\": \"Openness to change\",\n",
      "      \"category\": \"values\",\n",
      "      \"percentile\": 0.3588709247242118,\n",
      "      \"significant\": true\n",
      "    },\n",
      "    {\n",
      "      \"trait_id\": \"value_hedonism\",\n",
      "      \"name\": \"Hedonism\",\n",
      "      \"category\": \"values\",\n",
      "      \"percentile\": 0.09395286578960937,\n",
      "      \"significant\": true\n",
      "    },\n",
      "    {\n",
      "      \"trait_id\": \"value_self_enhancement\",\n",
      "      \"name\": \"Self-enhancement\",\n",
      "      \"category\": \"values\",\n",
      "      \"percentile\": 0.017321455136860398,\n",
      "      \"significant\": true\n",
      "    },\n",
      "    {\n",
      "      \"trait_id\": \"value_self_transcendence\",\n",
      "      \"name\": \"Self-transcendence\",\n",
      "      \"category\": \"values\",\n",
      "      \"percentile\": 0.3424749293164015,\n",
      "      \"significant\": true\n",
      "    }\n",
      "  ],\n",
      "  \"warnings\": []\n",
      "}\n"
     ]
    }
   ],
   "source": [
    "print(json.dumps(profile, indent=2))"
   ]
  },
  {
   "cell_type": "code",
   "execution_count": 170,
   "metadata": {},
   "outputs": [
    {
     "data": {
      "text/plain": [
       "{'trait_id': 'big5_agreeableness',\n",
       " 'name': 'Agreeableness',\n",
       " 'category': 'personality',\n",
       " 'percentile': 0.09479000047380282,\n",
       " 'significant': True,\n",
       " 'children': [{'trait_id': 'facet_altruism',\n",
       "   'name': 'Altruism',\n",
       "   'category': 'personality',\n",
       "   'percentile': 0.8676590376432725,\n",
       "   'significant': True},\n",
       "  {'trait_id': 'facet_cooperation',\n",
       "   'name': 'Cooperation',\n",
       "   'category': 'personality',\n",
       "   'percentile': 0.4218572058271272,\n",
       "   'significant': True},\n",
       "  {'trait_id': 'facet_modesty',\n",
       "   'name': 'Modesty',\n",
       "   'category': 'personality',\n",
       "   'percentile': 0.9312160081061588,\n",
       "   'significant': True},\n",
       "  {'trait_id': 'facet_morality',\n",
       "   'name': 'Uncompromising',\n",
       "   'category': 'personality',\n",
       "   'percentile': 0.7152607661038177,\n",
       "   'significant': True},\n",
       "  {'trait_id': 'facet_sympathy',\n",
       "   'name': 'Sympathy',\n",
       "   'category': 'personality',\n",
       "   'percentile': 0.9893465709830351,\n",
       "   'significant': True},\n",
       "  {'trait_id': 'facet_trust',\n",
       "   'name': 'Trust',\n",
       "   'category': 'personality',\n",
       "   'percentile': 0.29246532732164454,\n",
       "   'significant': True}]}"
      ]
     },
     "execution_count": 170,
     "metadata": {},
     "output_type": "execute_result"
    }
   ],
   "source": [
    "profile['personality'][3]"
   ]
  },
  {
   "cell_type": "code",
   "execution_count": 171,
   "metadata": {},
   "outputs": [
    {
     "data": {
      "text/plain": [
       "dict_keys(['word_count', 'processed_language', 'personality', 'needs', 'values', 'warnings'])"
      ]
     },
     "execution_count": 171,
     "metadata": {},
     "output_type": "execute_result"
    }
   ],
   "source": [
    "profile.keys()"
   ]
  },
  {
   "cell_type": "code",
   "execution_count": 172,
   "metadata": {},
   "outputs": [
    {
     "data": {
      "text/plain": [
       "[{'trait_id': 'need_challenge',\n",
       "  'name': 'Challenge',\n",
       "  'category': 'needs',\n",
       "  'percentile': 0.01260832357141145,\n",
       "  'significant': True},\n",
       " {'trait_id': 'need_closeness',\n",
       "  'name': 'Closeness',\n",
       "  'category': 'needs',\n",
       "  'percentile': 0.25743427295876464,\n",
       "  'significant': True},\n",
       " {'trait_id': 'need_curiosity',\n",
       "  'name': 'Curiosity',\n",
       "  'category': 'needs',\n",
       "  'percentile': 0.4709809508612107,\n",
       "  'significant': True},\n",
       " {'trait_id': 'need_excitement',\n",
       "  'name': 'Excitement',\n",
       "  'category': 'needs',\n",
       "  'percentile': 0.4294669720457295,\n",
       "  'significant': True},\n",
       " {'trait_id': 'need_harmony',\n",
       "  'name': 'Harmony',\n",
       "  'category': 'needs',\n",
       "  'percentile': 0.448225176904069,\n",
       "  'significant': True},\n",
       " {'trait_id': 'need_ideal',\n",
       "  'name': 'Ideal',\n",
       "  'category': 'needs',\n",
       "  'percentile': 0.10445467735778502,\n",
       "  'significant': True},\n",
       " {'trait_id': 'need_liberty',\n",
       "  'name': 'Liberty',\n",
       "  'category': 'needs',\n",
       "  'percentile': 0.20048037857633672,\n",
       "  'significant': True},\n",
       " {'trait_id': 'need_love',\n",
       "  'name': 'Love',\n",
       "  'category': 'needs',\n",
       "  'percentile': 0.05589312672068536,\n",
       "  'significant': True},\n",
       " {'trait_id': 'need_practicality',\n",
       "  'name': 'Practicality',\n",
       "  'category': 'needs',\n",
       "  'percentile': 0.2591392465481294,\n",
       "  'significant': True},\n",
       " {'trait_id': 'need_self_expression',\n",
       "  'name': 'Self-expression',\n",
       "  'category': 'needs',\n",
       "  'percentile': 0.32078690982783853,\n",
       "  'significant': True},\n",
       " {'trait_id': 'need_stability',\n",
       "  'name': 'Stability',\n",
       "  'category': 'needs',\n",
       "  'percentile': 0.309960799682491,\n",
       "  'significant': True},\n",
       " {'trait_id': 'need_structure',\n",
       "  'name': 'Structure',\n",
       "  'category': 'needs',\n",
       "  'percentile': 0.4026222257251257,\n",
       "  'significant': True}]"
      ]
     },
     "execution_count": 172,
     "metadata": {},
     "output_type": "execute_result"
    }
   ],
   "source": [
    "profile['needs']"
   ]
  },
  {
   "cell_type": "code",
   "execution_count": 173,
   "metadata": {},
   "outputs": [
    {
     "data": {
      "text/plain": [
       "[{'trait_id': 'value_conservation',\n",
       "  'name': 'Conservation',\n",
       "  'category': 'values',\n",
       "  'percentile': 0.3409528087010283,\n",
       "  'significant': True},\n",
       " {'trait_id': 'value_openness_to_change',\n",
       "  'name': 'Openness to change',\n",
       "  'category': 'values',\n",
       "  'percentile': 0.3588709247242118,\n",
       "  'significant': True},\n",
       " {'trait_id': 'value_hedonism',\n",
       "  'name': 'Hedonism',\n",
       "  'category': 'values',\n",
       "  'percentile': 0.09395286578960937,\n",
       "  'significant': True},\n",
       " {'trait_id': 'value_self_enhancement',\n",
       "  'name': 'Self-enhancement',\n",
       "  'category': 'values',\n",
       "  'percentile': 0.017321455136860398,\n",
       "  'significant': True},\n",
       " {'trait_id': 'value_self_transcendence',\n",
       "  'name': 'Self-transcendence',\n",
       "  'category': 'values',\n",
       "  'percentile': 0.3424749293164015,\n",
       "  'significant': True}]"
      ]
     },
     "execution_count": 173,
     "metadata": {},
     "output_type": "execute_result"
    }
   ],
   "source": [
    "profile['values']"
   ]
  },
  {
   "cell_type": "code",
   "execution_count": 174,
   "metadata": {},
   "outputs": [],
   "source": [
    "import seaborn as sns\n",
    "import matplotlib.pyplot as plt\n",
    "import pandas as pd"
   ]
  },
  {
   "cell_type": "markdown",
   "metadata": {},
   "source": [
    "## Visualizing The Profile"
   ]
  },
  {
   "cell_type": "code",
   "execution_count": 175,
   "metadata": {},
   "outputs": [],
   "source": [
    "result = {need['name']:need['percentile']for need in profile['needs']}"
   ]
  },
  {
   "cell_type": "code",
   "execution_count": 176,
   "metadata": {},
   "outputs": [
    {
     "data": {
      "text/plain": [
       "{'Challenge': 0.01260832357141145,\n",
       " 'Closeness': 0.25743427295876464,\n",
       " 'Curiosity': 0.4709809508612107,\n",
       " 'Excitement': 0.4294669720457295,\n",
       " 'Harmony': 0.448225176904069,\n",
       " 'Ideal': 0.10445467735778502,\n",
       " 'Liberty': 0.20048037857633672,\n",
       " 'Love': 0.05589312672068536,\n",
       " 'Practicality': 0.2591392465481294,\n",
       " 'Self-expression': 0.32078690982783853,\n",
       " 'Stability': 0.309960799682491,\n",
       " 'Structure': 0.4026222257251257}"
      ]
     },
     "execution_count": 176,
     "metadata": {},
     "output_type": "execute_result"
    }
   ],
   "source": [
    "result"
   ]
  },
  {
   "cell_type": "code",
   "execution_count": 177,
   "metadata": {},
   "outputs": [],
   "source": [
    "df = pd.DataFrame.from_dict(result, orient='index')"
   ]
  },
  {
   "cell_type": "code",
   "execution_count": 178,
   "metadata": {},
   "outputs": [
    {
     "data": {
      "text/html": [
       "<div>\n",
       "<style scoped>\n",
       "    .dataframe tbody tr th:only-of-type {\n",
       "        vertical-align: middle;\n",
       "    }\n",
       "\n",
       "    .dataframe tbody tr th {\n",
       "        vertical-align: top;\n",
       "    }\n",
       "\n",
       "    .dataframe thead th {\n",
       "        text-align: right;\n",
       "    }\n",
       "</style>\n",
       "<table border=\"1\" class=\"dataframe\">\n",
       "  <thead>\n",
       "    <tr style=\"text-align: right;\">\n",
       "      <th></th>\n",
       "      <th>0</th>\n",
       "    </tr>\n",
       "  </thead>\n",
       "  <tbody>\n",
       "    <tr>\n",
       "      <th>Challenge</th>\n",
       "      <td>0.012608</td>\n",
       "    </tr>\n",
       "    <tr>\n",
       "      <th>Closeness</th>\n",
       "      <td>0.257434</td>\n",
       "    </tr>\n",
       "    <tr>\n",
       "      <th>Curiosity</th>\n",
       "      <td>0.470981</td>\n",
       "    </tr>\n",
       "    <tr>\n",
       "      <th>Excitement</th>\n",
       "      <td>0.429467</td>\n",
       "    </tr>\n",
       "    <tr>\n",
       "      <th>Harmony</th>\n",
       "      <td>0.448225</td>\n",
       "    </tr>\n",
       "    <tr>\n",
       "      <th>Ideal</th>\n",
       "      <td>0.104455</td>\n",
       "    </tr>\n",
       "    <tr>\n",
       "      <th>Liberty</th>\n",
       "      <td>0.200480</td>\n",
       "    </tr>\n",
       "    <tr>\n",
       "      <th>Love</th>\n",
       "      <td>0.055893</td>\n",
       "    </tr>\n",
       "    <tr>\n",
       "      <th>Practicality</th>\n",
       "      <td>0.259139</td>\n",
       "    </tr>\n",
       "    <tr>\n",
       "      <th>Self-expression</th>\n",
       "      <td>0.320787</td>\n",
       "    </tr>\n",
       "    <tr>\n",
       "      <th>Stability</th>\n",
       "      <td>0.309961</td>\n",
       "    </tr>\n",
       "    <tr>\n",
       "      <th>Structure</th>\n",
       "      <td>0.402622</td>\n",
       "    </tr>\n",
       "  </tbody>\n",
       "</table>\n",
       "</div>"
      ],
      "text/plain": [
       "                        0\n",
       "Challenge        0.012608\n",
       "Closeness        0.257434\n",
       "Curiosity        0.470981\n",
       "Excitement       0.429467\n",
       "Harmony          0.448225\n",
       "Ideal            0.104455\n",
       "Liberty          0.200480\n",
       "Love             0.055893\n",
       "Practicality     0.259139\n",
       "Self-expression  0.320787\n",
       "Stability        0.309961\n",
       "Structure        0.402622"
      ]
     },
     "execution_count": 178,
     "metadata": {},
     "output_type": "execute_result"
    }
   ],
   "source": [
    "df"
   ]
  },
  {
   "cell_type": "code",
   "execution_count": 179,
   "metadata": {},
   "outputs": [],
   "source": [
    "df.reset_index(inplace=True)"
   ]
  },
  {
   "cell_type": "code",
   "execution_count": 180,
   "metadata": {},
   "outputs": [],
   "source": [
    "df.columns=['need', 'percentile']"
   ]
  },
  {
   "cell_type": "code",
   "execution_count": 181,
   "metadata": {},
   "outputs": [
    {
     "data": {
      "text/html": [
       "<div>\n",
       "<style scoped>\n",
       "    .dataframe tbody tr th:only-of-type {\n",
       "        vertical-align: middle;\n",
       "    }\n",
       "\n",
       "    .dataframe tbody tr th {\n",
       "        vertical-align: top;\n",
       "    }\n",
       "\n",
       "    .dataframe thead th {\n",
       "        text-align: right;\n",
       "    }\n",
       "</style>\n",
       "<table border=\"1\" class=\"dataframe\">\n",
       "  <thead>\n",
       "    <tr style=\"text-align: right;\">\n",
       "      <th></th>\n",
       "      <th>need</th>\n",
       "      <th>percentile</th>\n",
       "    </tr>\n",
       "  </thead>\n",
       "  <tbody>\n",
       "    <tr>\n",
       "      <th>0</th>\n",
       "      <td>Challenge</td>\n",
       "      <td>0.012608</td>\n",
       "    </tr>\n",
       "    <tr>\n",
       "      <th>1</th>\n",
       "      <td>Closeness</td>\n",
       "      <td>0.257434</td>\n",
       "    </tr>\n",
       "    <tr>\n",
       "      <th>2</th>\n",
       "      <td>Curiosity</td>\n",
       "      <td>0.470981</td>\n",
       "    </tr>\n",
       "    <tr>\n",
       "      <th>3</th>\n",
       "      <td>Excitement</td>\n",
       "      <td>0.429467</td>\n",
       "    </tr>\n",
       "    <tr>\n",
       "      <th>4</th>\n",
       "      <td>Harmony</td>\n",
       "      <td>0.448225</td>\n",
       "    </tr>\n",
       "    <tr>\n",
       "      <th>5</th>\n",
       "      <td>Ideal</td>\n",
       "      <td>0.104455</td>\n",
       "    </tr>\n",
       "    <tr>\n",
       "      <th>6</th>\n",
       "      <td>Liberty</td>\n",
       "      <td>0.200480</td>\n",
       "    </tr>\n",
       "    <tr>\n",
       "      <th>7</th>\n",
       "      <td>Love</td>\n",
       "      <td>0.055893</td>\n",
       "    </tr>\n",
       "    <tr>\n",
       "      <th>8</th>\n",
       "      <td>Practicality</td>\n",
       "      <td>0.259139</td>\n",
       "    </tr>\n",
       "    <tr>\n",
       "      <th>9</th>\n",
       "      <td>Self-expression</td>\n",
       "      <td>0.320787</td>\n",
       "    </tr>\n",
       "    <tr>\n",
       "      <th>10</th>\n",
       "      <td>Stability</td>\n",
       "      <td>0.309961</td>\n",
       "    </tr>\n",
       "    <tr>\n",
       "      <th>11</th>\n",
       "      <td>Structure</td>\n",
       "      <td>0.402622</td>\n",
       "    </tr>\n",
       "  </tbody>\n",
       "</table>\n",
       "</div>"
      ],
      "text/plain": [
       "               need  percentile\n",
       "0         Challenge    0.012608\n",
       "1         Closeness    0.257434\n",
       "2         Curiosity    0.470981\n",
       "3        Excitement    0.429467\n",
       "4           Harmony    0.448225\n",
       "5             Ideal    0.104455\n",
       "6           Liberty    0.200480\n",
       "7              Love    0.055893\n",
       "8      Practicality    0.259139\n",
       "9   Self-expression    0.320787\n",
       "10        Stability    0.309961\n",
       "11        Structure    0.402622"
      ]
     },
     "execution_count": 181,
     "metadata": {},
     "output_type": "execute_result"
    }
   ],
   "source": [
    "df"
   ]
  },
  {
   "cell_type": "code",
   "execution_count": 182,
   "metadata": {},
   "outputs": [
    {
     "data": {
      "text/plain": [
       "<function matplotlib.pyplot.show(*args, **kw)>"
      ]
     },
     "execution_count": 182,
     "metadata": {},
     "output_type": "execute_result"
    },
    {
     "data": {
      "image/png": "[encoded data removed]",
      "text/plain": [
       "<Figure size 1080x360 with 1 Axes>"
      ]
     },
     "metadata": {
      "needs_background": "light"
     },
     "output_type": "display_data"
    }
   ],
   "source": [
    "plt.figure(figsize=(15,5))\n",
    "sns.barplot(y='percentile', x='need', data=df)\n",
    "plt.show\n",
    "\n",
    "# plt.savefig('adventure_needs.png')"
   ]
  },
  {
   "cell_type": "markdown",
   "metadata": {},
   "source": [
    "## Function To Visualize Automatically"
   ]
  },
  {
   "cell_type": "code",
   "execution_count": 183,
   "metadata": {},
   "outputs": [],
   "source": [
    "# plotting function\n",
    "def create_trait_plots(traits):\n",
    "    result = {trait['name']:trait['percentile']for trait in traits}\n",
    "    df = pd.DataFrame.from_dict(result, orient='index')\n",
    "    df.reset_index(inplace=True)\n",
    "    df.columns = ['name', 'percentile']\n",
    "    plt.figure(figsize=(15,5))\n",
    "    ax = sns.barplot(y='percentile', x='name', data=df)\n",
    "    ax.set(xlabel='trait', ylabel='percentile')\n",
    "    plt.show\n",
    "    "
   ]
  },
  {
   "cell_type": "code",
   "execution_count": 184,
   "metadata": {},
   "outputs": [
    {
     "data": {
      "image/png": "[encoded data removed]",
      "text/plain": [
       "<Figure size 1080x360 with 1 Axes>"
      ]
     },
     "metadata": {
      "needs_background": "light"
     },
     "output_type": "display_data"
    }
   ],
   "source": [
    "create_trait_plots(profile['personality'])\n",
    "\n",
    "# plt.savefig('personality.png')"
   ]
  },
  {
   "cell_type": "code",
   "execution_count": 185,
   "metadata": {},
   "outputs": [
    {
     "data": {
      "text/plain": [
       "[None, None, None, None, None]"
      ]
     },
     "execution_count": 185,
     "metadata": {},
     "output_type": "execute_result"
    },
    {
     "data": {
      "image/png": "[encoded data removed]",
      "text/plain": [
       "<Figure size 1080x360 with 1 Axes>"
      ]
     },
     "metadata": {
      "needs_background": "light"
     },
     "output_type": "display_data"
    },
    {
     "data": {
      "image/png": "[encoded data removed]",
      "text/plain": [
       "<Figure size 1080x360 with 1 Axes>"
      ]
     },
     "metadata": {
      "needs_background": "light"
     },
     "output_type": "display_data"
    },
    {
     "data": {
      "image/png": "[encoded data removed]",
      "text/plain": [
       "<Figure size 1080x360 with 1 Axes>"
      ]
     },
     "metadata": {
      "needs_background": "light"
     },
     "output_type": "display_data"
    },
    {
     "data": {
      "image/png": "[encoded data removed]",
      "text/plain": [
       "<Figure size 1080x360 with 1 Axes>"
      ]
     },
     "metadata": {
      "needs_background": "light"
     },
     "output_type": "display_data"
    },
    {
     "data": {
      "image/png": "[encoded data removed]",
      "text/plain": [
       "<Figure size 1080x360 with 1 Axes>"
      ]
     },
     "metadata": {
      "needs_background": "light"
     },
     "output_type": "display_data"
    }
   ],
   "source": [
    "[create_trait_plots(big5['children']) for big5 in profile['personality']]\n",
    "\n",
    "# plt.savefig('children.png')"
   ]
  },
  {
   "cell_type": "code",
   "execution_count": null,
   "metadata": {},
   "outputs": [],
   "source": []
  }
 ],
 "metadata": {
  "kernelspec": {
   "display_name": "metis",
   "language": "python",
   "name": "metis"
  },
  "language_info": {
   "codemirror_mode": {
    "name": "ipython",
    "version": 3
   },
   "file_extension": ".py",
   "mimetype": "text/x-python",
   "name": "python",
   "nbconvert_exporter": "python",
   "pygments_lexer": "ipython3",
   "version": "3.7.3"
  }
 },
 "nbformat": 4,
 "nbformat_minor": 2
}
